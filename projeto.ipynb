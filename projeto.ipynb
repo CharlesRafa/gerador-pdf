{
 "cells": [
  {
   "cell_type": "markdown",
   "metadata": {},
   "source": [
    "## Gerador de PDF"
   ]
  },
  {
   "cell_type": "code",
   "execution_count": 1,
   "metadata": {},
   "outputs": [
    {
     "name": "stdout",
     "output_type": "stream",
     "text": [
      "200\n",
      "Orçamento gerado com sucesso!\n"
     ]
    }
   ],
   "source": [
    "projeto = input('Digite a descrição do projeto: ')\n",
    "horas_prevista = input('Digite a quantidade de horas previstas: ')\n",
    "valor_hora = input('Digite o valor da hora trabalhada: ')\n",
    "prazo = input ('Digite o prazo do projeto: ')\n",
    "\n",
    "print(valor_hora)\n",
    "\n",
    "valor_total = int(valor_hora) * int(horas_prevista) \n",
    "\n",
    "from fpdf import FPDF\n",
    "\n",
    "pdf = FPDF()\n",
    "\n",
    "pdf.add_page()\n",
    "pdf.set_font(\"Arial\")\n",
    "pdf.image(\"tmp.png\", x=0, y=0)\n",
    "pdf.text(110, 161, projeto)\n",
    "pdf.text(110, 173, horas_prevista)\n",
    "pdf.text(110, 185, valor_hora)\n",
    "pdf.text(110, 197, prazo)\n",
    "pdf.text(110, 209, str(valor_total))\n",
    "\n",
    "pdf.output(\"orçamento.pdf\")\n",
    "\n",
    "print(\"Orçamento gerado com sucesso!\")"
   ]
  }
 ],
 "metadata": {
  "kernelspec": {
   "display_name": "base",
   "language": "python",
   "name": "python3"
  },
  "language_info": {
   "codemirror_mode": {
    "name": "ipython",
    "version": 3
   },
   "file_extension": ".py",
   "mimetype": "text/x-python",
   "name": "python",
   "nbconvert_exporter": "python",
   "pygments_lexer": "ipython3",
   "version": "3.11.7"
  }
 },
 "nbformat": 4,
 "nbformat_minor": 2
}
